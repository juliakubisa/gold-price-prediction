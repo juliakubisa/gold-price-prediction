{
 "cells": [
  {
   "cell_type": "code",
   "execution_count": 1,
   "id": "9fe62ceb-c09e-4224-aabd-8e5d70133449",
   "metadata": {},
   "outputs": [],
   "source": [
    "#import libraries \n",
    "import numpy as np\n",
    "import pandas as pd\n",
    "import matplotlib.pyplot as plt\n",
    "import seaborn as sns\n",
    "import os\n",
    "import math\n",
    "import smtplib\n",
    "\n",
    "from datetime import datetime\n",
    "from email.message import EmailMessage\n",
    "from sklearn.metrics import mean_squared_error\n",
    "from statsmodels.tsa.statespace.sarimax import SARIMAX\n",
    "from statsmodels.tsa.stattools import adfuller\n",
    "from statsmodels.tsa.seasonal import seasonal_decompose\n",
    "from statsmodels.graphics.tsaplots import plot_acf\n",
    "from statsmodels.graphics.tsaplots import plot_pacf\n",
    "import datetime\n",
    "from numpy import log\n",
    "import pmdarima as pmd\n",
    "from statsmodels.stats.diagnostic import acorr_ljungbox\n",
    "from statsmodels.tsa.stattools import kpss\n",
    "from statsmodels.tsa.arima_model import ARIMA\n",
    "import matplotlib.pyplot as plt\n",
    "import matplotlib"
   ]
  },
  {
   "cell_type": "code",
   "execution_count": 2,
   "id": "797f4138-22cc-4492-8367-8a2fb289c997",
   "metadata": {},
   "outputs": [
    {
     "name": "stdout",
     "output_type": "stream",
     "text": [
      "Files in '/Users/julkakubisa/Documents/gold-price': ['main.ipynb', '.DS_Store', 'funs', '.ipynb_checkpoints', 'monthly_data.xlsx']\n"
     ]
    }
   ],
   "source": [
    "#get current working directory \n",
    "import os\n",
    "\n",
    "cwd = os.getcwd()  # Get the current working directory (cwd)\n",
    "files = os.listdir(cwd)  # Get all the files in that directory\n",
    "print(\"Files in %r: %s\" % (cwd, files))"
   ]
  },
  {
   "cell_type": "code",
   "execution_count": 3,
   "id": "6ec34496-3141-475d-8f06-522c1a258d12",
   "metadata": {},
   "outputs": [],
   "source": [
    "#import data\n",
    "df = pd.read_excel(\"/Users/julkakubisa/Documents/gold-price/monthly_data.xlsx\")"
   ]
  },
  {
   "cell_type": "code",
   "execution_count": 4,
   "id": "2b287655-4e19-4ad8-b780-4c7d7ff215dd",
   "metadata": {},
   "outputs": [
    {
     "data": {
      "text/html": [
       "<div>\n",
       "<style scoped>\n",
       "    .dataframe tbody tr th:only-of-type {\n",
       "        vertical-align: middle;\n",
       "    }\n",
       "\n",
       "    .dataframe tbody tr th {\n",
       "        vertical-align: top;\n",
       "    }\n",
       "\n",
       "    .dataframe thead th {\n",
       "        text-align: right;\n",
       "    }\n",
       "</style>\n",
       "<table border=\"1\" class=\"dataframe\">\n",
       "  <thead>\n",
       "    <tr style=\"text-align: right;\">\n",
       "      <th></th>\n",
       "      <th>Value</th>\n",
       "    </tr>\n",
       "    <tr>\n",
       "      <th>Date</th>\n",
       "      <th></th>\n",
       "    </tr>\n",
       "  </thead>\n",
       "  <tbody>\n",
       "    <tr>\n",
       "      <th>1990-01-31</th>\n",
       "      <td>415.05</td>\n",
       "    </tr>\n",
       "    <tr>\n",
       "      <th>1990-02-28</th>\n",
       "      <td>407.70</td>\n",
       "    </tr>\n",
       "    <tr>\n",
       "      <th>1990-03-30</th>\n",
       "      <td>368.50</td>\n",
       "    </tr>\n",
       "    <tr>\n",
       "      <th>1990-04-30</th>\n",
       "      <td>367.75</td>\n",
       "    </tr>\n",
       "    <tr>\n",
       "      <th>1990-05-31</th>\n",
       "      <td>363.05</td>\n",
       "    </tr>\n",
       "    <tr>\n",
       "      <th>...</th>\n",
       "      <td>...</td>\n",
       "    </tr>\n",
       "    <tr>\n",
       "      <th>2022-02-28</th>\n",
       "      <td>1909.85</td>\n",
       "    </tr>\n",
       "    <tr>\n",
       "      <th>2022-03-31</th>\n",
       "      <td>1942.15</td>\n",
       "    </tr>\n",
       "    <tr>\n",
       "      <th>2022-04-29</th>\n",
       "      <td>1911.30</td>\n",
       "    </tr>\n",
       "    <tr>\n",
       "      <th>2022-05-31</th>\n",
       "      <td>1838.70</td>\n",
       "    </tr>\n",
       "    <tr>\n",
       "      <th>2022-06-30</th>\n",
       "      <td>1817.00</td>\n",
       "    </tr>\n",
       "  </tbody>\n",
       "</table>\n",
       "<p>390 rows × 1 columns</p>\n",
       "</div>"
      ],
      "text/plain": [
       "              Value\n",
       "Date               \n",
       "1990-01-31   415.05\n",
       "1990-02-28   407.70\n",
       "1990-03-30   368.50\n",
       "1990-04-30   367.75\n",
       "1990-05-31   363.05\n",
       "...             ...\n",
       "2022-02-28  1909.85\n",
       "2022-03-31  1942.15\n",
       "2022-04-29  1911.30\n",
       "2022-05-31  1838.70\n",
       "2022-06-30  1817.00\n",
       "\n",
       "[390 rows x 1 columns]"
      ]
     },
     "execution_count": 4,
     "metadata": {},
     "output_type": "execute_result"
    }
   ],
   "source": [
    "#set index to date\n",
    "df['Date'] = pd.to_datetime(df['Date'])\n",
    "df = df.set_index('Date')\n",
    "df"
   ]
  },
  {
   "cell_type": "code",
   "execution_count": 5,
   "id": "cf626bee-a4fc-430c-9f74-cb41f82f9105",
   "metadata": {},
   "outputs": [],
   "source": [
    "#fix the error \n",
    "import matplotlib.pyplot as plt\n",
    "from importlib import reload\n",
    "plt=reload(plt)"
   ]
  },
  {
   "cell_type": "code",
   "execution_count": 6,
   "id": "8126ab14-ceb4-43b6-8035-b1ce8095af8e",
   "metadata": {},
   "outputs": [
    {
     "data": {
      "image/png": "[encoded data removed]",
      "text/plain": [
       "<Figure size 576x360 with 1 Axes>"
      ]
     },
     "metadata": {
      "needs_background": "light"
     },
     "output_type": "display_data"
    },
    {
     "data": {
      "text/plain": [
       "<Figure size 576x360 with 0 Axes>"
      ]
     },
     "metadata": {},
     "output_type": "display_data"
    }
   ],
   "source": [
    "#visualize price \n",
    "matplotlib.rcParams['figure.figsize'] = (8.0, 5.0) \n",
    "plt.plot(df.Value)\n",
    "plt.ylabel(\"cena\", labelpad=15)\n",
    "plt.xlabel(\"data\", labelpad=15)\n",
    "plt.title(\"Cena złota w latach 1990 - 2022\", size=12, y=1.05)\n",
    "plt.ylim([0, 2300])\n",
    "fig1 = plt.gcf()\n",
    "plt.show()\n",
    "plt.draw()\n",
    "fig1.savefig('cena złota 1990 - 2022.png', dpi=100)\n"
   ]
  },
  {
   "cell_type": "code",
   "execution_count": 7,
   "id": "5c1247b4-59be-40d0-bc9c-b1d3444a4c96",
   "metadata": {},
   "outputs": [],
   "source": [
    "#split data into out-of-sample and in-sample\n",
    "train = df[:387]\n",
    "test = df[387:390]\n"
   ]
  },
  {
   "cell_type": "code",
   "execution_count": 8,
   "id": "67ba6481-6793-4683-8480-1b9d8169e7dc",
   "metadata": {},
   "outputs": [
    {
     "name": "stdout",
     "output_type": "stream",
     "text": [
      "liczba obserwacji: Value    390\n",
      "dtype: int64 średnia: Value    822.815513\n",
      "dtype: float64 odchylenie: Value    533.028148\n",
      "dtype: float64 mediana: Value    590.625\n",
      "dtype: float64 min: Value    254.8\n",
      "dtype: float64 max: Value    1964.9\n",
      "dtype: float64 Value    0.542974\n",
      "dtype: float64\n",
      "kurtoza: Value   -1.191295\n",
      "dtype: float64\n"
     ]
    }
   ],
   "source": [
    "#print basic statistics\n",
    "średnia = df.mean()\n",
    "std = df.std()\n",
    "lobs = df.count()\n",
    "mediana = df.median()\n",
    "\n",
    "print(\"liczba obserwacji:\", lobs, \"średnia:\", średnia, \"odchylenie:\", std, \"mediana:\",\n",
    "      mediana, \"min:\", df.min(), \"max:\", df.max(), df.skew())\n",
    "\n",
    "print(\"kurtoza:\", df.kurtosis())"
   ]
  },
  {
   "cell_type": "code",
   "execution_count": 9,
   "id": "49ccf9d2-10d3-41a6-9f5f-b5aee4489af6",
   "metadata": {},
   "outputs": [
    {
     "data": {
      "text/html": [
       "<div>\n",
       "<style scoped>\n",
       "    .dataframe tbody tr th:only-of-type {\n",
       "        vertical-align: middle;\n",
       "    }\n",
       "\n",
       "    .dataframe tbody tr th {\n",
       "        vertical-align: top;\n",
       "    }\n",
       "\n",
       "    .dataframe thead th {\n",
       "        text-align: right;\n",
       "    }\n",
       "</style>\n",
       "<table border=\"1\" class=\"dataframe\">\n",
       "  <thead>\n",
       "    <tr style=\"text-align: right;\">\n",
       "      <th></th>\n",
       "      <th>Value</th>\n",
       "    </tr>\n",
       "  </thead>\n",
       "  <tbody>\n",
       "    <tr>\n",
       "      <th>count</th>\n",
       "      <td>390.000000</td>\n",
       "    </tr>\n",
       "    <tr>\n",
       "      <th>mean</th>\n",
       "      <td>822.815513</td>\n",
       "    </tr>\n",
       "    <tr>\n",
       "      <th>std</th>\n",
       "      <td>533.028148</td>\n",
       "    </tr>\n",
       "    <tr>\n",
       "      <th>min</th>\n",
       "      <td>254.800000</td>\n",
       "    </tr>\n",
       "    <tr>\n",
       "      <th>25%</th>\n",
       "      <td>357.525000</td>\n",
       "    </tr>\n",
       "    <tr>\n",
       "      <th>50%</th>\n",
       "      <td>590.625000</td>\n",
       "    </tr>\n",
       "    <tr>\n",
       "      <th>75%</th>\n",
       "      <td>1281.775000</td>\n",
       "    </tr>\n",
       "    <tr>\n",
       "      <th>max</th>\n",
       "      <td>1964.900000</td>\n",
       "    </tr>\n",
       "  </tbody>\n",
       "</table>\n",
       "</div>"
      ],
      "text/plain": [
       "             Value\n",
       "count   390.000000\n",
       "mean    822.815513\n",
       "std     533.028148\n",
       "min     254.800000\n",
       "25%     357.525000\n",
       "50%     590.625000\n",
       "75%    1281.775000\n",
       "max    1964.900000"
      ]
     },
     "execution_count": 9,
     "metadata": {},
     "output_type": "execute_result"
    }
   ],
   "source": [
    "df.describe(include='all')"
   ]
  },
  {
   "cell_type": "code",
   "execution_count": 10,
   "id": "0ba5d907-de6d-429f-8189-eae8c8eddbc6",
   "metadata": {},
   "outputs": [],
   "source": [
    "#differencing data\n",
    "df_diff = train.diff()\n",
    "df_diff.dropna(inplace=True)"
   ]
  },
  {
   "cell_type": "code",
   "execution_count": 11,
   "id": "dc23a3a6-7f89-4861-a3a2-9c312914c654",
   "metadata": {},
   "outputs": [
    {
     "data": {
      "image/png": "[encoded data removed]",
      "text/plain": [
       "<Figure size 864x432 with 1 Axes>"
      ]
     },
     "metadata": {
      "needs_background": "light"
     },
     "output_type": "display_data"
    },
    {
     "data": {
      "text/plain": [
       "<Figure size 576x360 with 0 Axes>"
      ]
     },
     "metadata": {},
     "output_type": "display_data"
    }
   ],
   "source": [
    "#plot diff data\n",
    "fig, ax = plt.subplots(figsize=(12,6))\n",
    "fig.suptitle('Pierwsze różnice szeregu czasowego')\n",
    "df_diff['Value'].plot(ax=ax)\n",
    "plt.xlabel(\"data\", labelpad=15)\n",
    "fig2 = plt.gcf()\n",
    "plt.show()\n",
    "plt.draw()\n",
    "fig2.savefig('pierwsze różnice.png', dpi=100)\n"
   ]
  },
  {
   "cell_type": "code",
   "execution_count": 12,
   "id": "d16961b0-14a6-4df6-8073-a876454202ef",
   "metadata": {},
   "outputs": [
    {
     "name": "stdout",
     "output_type": "stream",
     "text": [
      "ADF Statistic: -0.181851\n",
      "p-value: 0.940651\n",
      "Critical Test Statistics Values:\n",
      "\t1%: -3.448\n",
      "\t5%: -2.869\n",
      "\t10%: -2.571\n"
     ]
    }
   ],
   "source": [
    "#stationarity \n",
    "\n",
    "#ADF test for non-differenced data\n",
    "result = adfuller(df['Value'])\n",
    "print('ADF Statistic: %f' % result[0])\n",
    "print('p-value: %f' % result[1])\n",
    "print('Critical Test Statistics Values:')\n",
    "for key, value in result[4].items():\n",
    "    print('\\t%s: %.3f' % (key, value))\n"
   ]
  },
  {
   "cell_type": "code",
   "execution_count": 13,
   "id": "02d6977f-2a27-404a-940e-a8131789c545",
   "metadata": {},
   "outputs": [
    {
     "name": "stdout",
     "output_type": "stream",
     "text": [
      "ADF Statistic: -4.879020\n",
      "p-value: 0.000038\n",
      "Critical Test Statistics Values:\n",
      "\t1%: -3.448\n",
      "\t5%: -2.869\n",
      "\t10%: -2.571\n"
     ]
    }
   ],
   "source": [
    "#ADF test for differenced data\n",
    "result_diff = adfuller(df_diff['Value'])\n",
    "print('ADF Statistic: %f' % result_diff[0])\n",
    "print('p-value: %f' % result_diff[1])\n",
    "print('Critical Test Statistics Values:')\n",
    "for key, value in result_diff[4].items():\n",
    "    print('\\t%s: %.3f' % (key, value))\n",
    "    \n"
   ]
  },
  {
   "cell_type": "code",
   "execution_count": 14,
   "id": "9b988a1c-7533-48b2-90c1-7ab58c82deac",
   "metadata": {},
   "outputs": [
    {
     "name": "stdout",
     "output_type": "stream",
     "text": [
      "KPSS Statistic: 1.9306462428251001\n",
      "p-value: 0.01\n",
      "num lags: 17\n",
      "Critial Values:\n",
      "   10% : 0.347\n",
      "   5% : 0.463\n",
      "   2.5% : 0.574\n",
      "   1% : 0.739\n",
      "Result: The series is not stationary\n"
     ]
    },
    {
     "name": "stderr",
     "output_type": "stream",
     "text": [
      "/opt/anaconda3/lib/python3.9/site-packages/statsmodels/tsa/stattools.py:1875: FutureWarning: The behavior of using nlags=None will change in release 0.13.Currently nlags=None is the same as nlags=\"legacy\", and so a sample-size lag length is used. After the next release, the default will change to be the same as nlags=\"auto\" which uses an automatic lag length selection method. To silence this warning, either use \"auto\" or \"legacy\"\n",
      "  warnings.warn(msg, FutureWarning)\n",
      "/opt/anaconda3/lib/python3.9/site-packages/statsmodels/tsa/stattools.py:1906: InterpolationWarning: The test statistic is outside of the range of p-values available in the\n",
      "look-up table. The actual p-value is smaller than the p-value returned.\n",
      "\n",
      "  warnings.warn(\n"
     ]
    }
   ],
   "source": [
    "#test KPSS\n",
    "\n",
    "#KPSS for non-diff data \n",
    "def kpss_test(df, **kw):    \n",
    "    statistic, p_value, n_lags, critical_values = kpss(df.Value, **kw)\n",
    "    # Format Output\n",
    "    print(f'KPSS Statistic: {statistic}')\n",
    "    print(f'p-value: {p_value}')\n",
    "    print(f'num lags: {n_lags}')\n",
    "    print('Critial Values:')\n",
    "    for key, value in critical_values.items():\n",
    "        print(f'   {key} : {value}')\n",
    "    print(f'Result: The series is {\"not \" if p_value < 0.05 else \"\"}stationary')\n",
    "\n",
    "kpss_test(df)"
   ]
  },
  {
   "cell_type": "code",
   "execution_count": 15,
   "id": "7a07d000-a31a-4fb7-85e3-1bb09bccabea",
   "metadata": {},
   "outputs": [
    {
     "name": "stdout",
     "output_type": "stream",
     "text": [
      "KPSS Statistic: 0.25074699671292267\n",
      "p-value: 0.1\n",
      "num lags: 17\n",
      "Critial Values:\n",
      "   10% : 0.347\n",
      "   5% : 0.463\n",
      "   2.5% : 0.574\n",
      "   1% : 0.739\n",
      "Result: The series is stationary\n"
     ]
    },
    {
     "name": "stderr",
     "output_type": "stream",
     "text": [
      "/opt/anaconda3/lib/python3.9/site-packages/statsmodels/tsa/stattools.py:1910: InterpolationWarning: The test statistic is outside of the range of p-values available in the\n",
      "look-up table. The actual p-value is greater than the p-value returned.\n",
      "\n",
      "  warnings.warn(\n"
     ]
    }
   ],
   "source": [
    "#KPSS test for diff data \n",
    "def kpss_test_diff(df_diff, **kw):    \n",
    "    statistic, p_value, n_lags, critical_values = kpss(df_diff.Value, **kw)\n",
    "    # Format Output\n",
    "    print(f'KPSS Statistic: {statistic}')\n",
    "    print(f'p-value: {p_value}')\n",
    "    print(f'num lags: {n_lags}')\n",
    "    print('Critial Values:')\n",
    "    for key, value in critical_values.items():\n",
    "        print(f'   {key} : {value}')\n",
    "    print(f'Result: The series is {\"not \" if p_value < 0.05 else \"\"}stationary')\n",
    "\n",
    "kpss_test_diff(df_diff)"
   ]
  },
  {
   "cell_type": "code",
   "execution_count": 16,
   "id": "5c894f93-3443-4d23-acba-0ed3170a551d",
   "metadata": {},
   "outputs": [
    {
     "data": {
      "image/png": "[encoded data removed]",
      "text/plain": [
       "<Figure size 1008x432 with 2 Axes>"
      ]
     },
     "metadata": {
      "needs_background": "light"
     },
     "output_type": "display_data"
    }
   ],
   "source": [
    "#ACF i PACF for non-diff data\n",
    "fig, (ax1, ax2) = plt.subplots(nrows=2, ncols=1, figsize=(14,6), sharex=False, sharey=False)\n",
    "ax1 = plot_acf(df['Value'], lags=24, ax=ax1)\n",
    "ax2 = plot_pacf(df['Value'], lags=24, ax=ax2)\n",
    "plt.show()\n"
   ]
  },
  {
   "cell_type": "code",
   "execution_count": 17,
   "id": "ca9cb73a-5a3f-400c-840c-85d4181542df",
   "metadata": {},
   "outputs": [
    {
     "data": {
      "image/png": "[encoded data removed]",
      "text/plain": [
       "<Figure size 1080x432 with 2 Axes>"
      ]
     },
     "metadata": {
      "needs_background": "light"
     },
     "output_type": "display_data"
    },
    {
     "data": {
      "text/plain": [
       "<Figure size 576x360 with 0 Axes>"
      ]
     },
     "metadata": {},
     "output_type": "display_data"
    }
   ],
   "source": [
    "#ACF i PACF dla diff data \n",
    "fig, (ax1, ax2) = plt.subplots(nrows=1, ncols=2, figsize=(15,6), sharex=False, sharey=False)\n",
    "ax1 = plot_acf(df_diff['Value'], lags=24, ax=ax1)\n",
    "ax2 = plot_pacf(df_diff['Value'], lags=24, ax=ax2)\n",
    "fig3 = plt.gcf()\n",
    "plt.show()\n",
    "plt.draw()\n",
    "fig3.savefig('ACF i PACF')\n",
    "\n"
   ]
  },
  {
   "cell_type": "code",
   "execution_count": 18,
   "id": "4fe1aa76-671a-4675-968e-7e6b42b95535",
   "metadata": {},
   "outputs": [
    {
     "data": {
      "text/html": [
       "<div>\n",
       "<style scoped>\n",
       "    .dataframe tbody tr th:only-of-type {\n",
       "        vertical-align: middle;\n",
       "    }\n",
       "\n",
       "    .dataframe tbody tr th {\n",
       "        vertical-align: top;\n",
       "    }\n",
       "\n",
       "    .dataframe thead th {\n",
       "        text-align: right;\n",
       "    }\n",
       "</style>\n",
       "<table border=\"1\" class=\"dataframe\">\n",
       "  <thead>\n",
       "    <tr style=\"text-align: right;\">\n",
       "      <th></th>\n",
       "      <th>lb_stat</th>\n",
       "      <th>lb_pvalue</th>\n",
       "      <th>bp_stat</th>\n",
       "      <th>bp_pvalue</th>\n",
       "    </tr>\n",
       "  </thead>\n",
       "  <tbody>\n",
       "    <tr>\n",
       "      <th>24</th>\n",
       "      <td>70.13457</td>\n",
       "      <td>0.000002</td>\n",
       "      <td>67.645164</td>\n",
       "      <td>0.000005</td>\n",
       "    </tr>\n",
       "  </tbody>\n",
       "</table>\n",
       "</div>"
      ],
      "text/plain": [
       "     lb_stat  lb_pvalue    bp_stat  bp_pvalue\n",
       "24  70.13457   0.000002  67.645164   0.000005"
      ]
     },
     "execution_count": 18,
     "metadata": {},
     "output_type": "execute_result"
    }
   ],
   "source": [
    "#white noise test \n",
    "train = df[:387]\n",
    "test = df[387:]\n",
    "df_diff = train.diff()\n",
    "df_diff.dropna(inplace=True)\n",
    "\n",
    "\n",
    "#Box-Pierce test \n",
    "acorr_ljungbox(df_diff['Value'], lags=[24], boxpierce=True, return_df=True)"
   ]
  },
  {
   "cell_type": "code",
   "execution_count": 19,
   "id": "31770b96-1168-4fab-ae59-bfd1f30a33cf",
   "metadata": {},
   "outputs": [
    {
     "data": {
      "text/html": [
       "<div>\n",
       "<style scoped>\n",
       "    .dataframe tbody tr th:only-of-type {\n",
       "        vertical-align: middle;\n",
       "    }\n",
       "\n",
       "    .dataframe tbody tr th {\n",
       "        vertical-align: top;\n",
       "    }\n",
       "\n",
       "    .dataframe thead th {\n",
       "        text-align: right;\n",
       "    }\n",
       "</style>\n",
       "<table border=\"1\" class=\"dataframe\">\n",
       "  <thead>\n",
       "    <tr style=\"text-align: right;\">\n",
       "      <th></th>\n",
       "      <th>lb_stat</th>\n",
       "      <th>lb_pvalue</th>\n",
       "    </tr>\n",
       "  </thead>\n",
       "  <tbody>\n",
       "    <tr>\n",
       "      <th>24</th>\n",
       "      <td>70.13457</td>\n",
       "      <td>0.000002</td>\n",
       "    </tr>\n",
       "  </tbody>\n",
       "</table>\n",
       "</div>"
      ],
      "text/plain": [
       "     lb_stat  lb_pvalue\n",
       "24  70.13457   0.000002"
      ]
     },
     "execution_count": 19,
     "metadata": {},
     "output_type": "execute_result"
    }
   ],
   "source": [
    "#Ljung Box test \n",
    "acorr_ljungbox(df_diff['Value'], lags=[24], return_df=True)\n",
    "\n"
   ]
  },
  {
   "cell_type": "code",
   "execution_count": 20,
   "id": "14f991bd-9e00-494f-a0e8-997e4e64b17c",
   "metadata": {},
   "outputs": [
    {
     "name": "stderr",
     "output_type": "stream",
     "text": [
      "/opt/anaconda3/lib/python3.9/site-packages/pmdarima/arima/_validation.py:62: UserWarning: m (12) set for non-seasonal fit. Setting to 0\n",
      "  warnings.warn(\"m (%i) set for non-seasonal fit. Setting to 0\" % m)\n"
     ]
    },
    {
     "name": "stdout",
     "output_type": "stream",
     "text": [
      "Performing stepwise search to minimize aic\n",
      " ARIMA(1,1,1)(0,0,0)[0] intercept   : AIC=4077.946, Time=0.29 sec\n",
      " ARIMA(0,1,0)(0,0,0)[0] intercept   : AIC=4082.877, Time=0.02 sec\n",
      " ARIMA(1,1,0)(0,0,0)[0] intercept   : AIC=4077.788, Time=0.05 sec\n",
      " ARIMA(0,1,1)(0,0,0)[0] intercept   : AIC=4076.584, Time=0.12 sec\n",
      " ARIMA(0,1,0)(0,0,0)[0]             : AIC=4083.525, Time=0.01 sec\n",
      " ARIMA(0,1,2)(0,0,0)[0] intercept   : AIC=4077.335, Time=0.18 sec\n",
      " ARIMA(1,1,2)(0,0,0)[0] intercept   : AIC=4078.742, Time=0.30 sec\n",
      " ARIMA(0,1,1)(0,0,0)[0]             : AIC=4078.302, Time=0.04 sec\n",
      "\n",
      "Best model:  ARIMA(0,1,1)(0,0,0)[0] intercept\n",
      "Total fit time: 1.035 seconds\n"
     ]
    }
   ],
   "source": [
    "#ARIMA best model (autoarima)\n",
    "def arimamodel(df):\n",
    "    autoarima_model = pmd.auto_arima(train,\n",
    "                                     start_p=1,\n",
    "                                     start_q=1,\n",
    "                                     test=\"adf\",\n",
    "                                     m=12, \n",
    "                                     d=1,\n",
    "                                     seasonal = False,\n",
    "                                     error_action = 'ignore',\n",
    "                                     suppress_warnings=True,\n",
    "                                     trace=True)\n",
    "    \n",
    "arima_model = arimamodel(df['Value'])\n",
    "\n"
   ]
  },
  {
   "cell_type": "code",
   "execution_count": 21,
   "id": "99c3f895-45d3-448a-864b-114a7bf6e0f7",
   "metadata": {},
   "outputs": [
    {
     "name": "stdout",
     "output_type": "stream",
     "text": [
      "                             ARIMA Model Results                              \n",
      "==============================================================================\n",
      "Dep. Variable:                D.Value   No. Observations:                  386\n",
      "Model:                 ARIMA(1, 1, 1)   Log Likelihood               -2034.975\n",
      "Method:                       css-mle   S.D. of innovations             47.133\n",
      "Date:                Fri, 14 Oct 2022   AIC                           4077.949\n",
      "Time:                        18:06:05   BIC                           4093.773\n",
      "Sample:                    02-28-1990   HQIC                          4084.224\n",
      "                         - 03-31-2022                                         \n",
      "=================================================================================\n",
      "                    coef    std err          z      P>|z|      [0.025      0.975]\n",
      "---------------------------------------------------------------------------------\n",
      "const             3.9382      1.956      2.013      0.044       0.105       7.772\n",
      "ar.L1.D.Value     0.1878      0.224      0.837      0.402      -0.252       0.627\n",
      "ma.L1.D.Value    -0.3383      0.212     -1.592      0.111      -0.755       0.078\n",
      "                                    Roots                                    \n",
      "=============================================================================\n",
      "                  Real          Imaginary           Modulus         Frequency\n",
      "-----------------------------------------------------------------------------\n",
      "AR.1            5.3254           +0.0000j            5.3254            0.0000\n",
      "MA.1            2.9562           +0.0000j            2.9562            0.0000\n",
      "-----------------------------------------------------------------------------\n"
     ]
    },
    {
     "name": "stderr",
     "output_type": "stream",
     "text": [
      "/opt/anaconda3/lib/python3.9/site-packages/statsmodels/tsa/arima_model.py:472: FutureWarning: \n",
      "statsmodels.tsa.arima_model.ARMA and statsmodels.tsa.arima_model.ARIMA have\n",
      "been deprecated in favor of statsmodels.tsa.arima.model.ARIMA (note the .\n",
      "between arima and model) and\n",
      "statsmodels.tsa.SARIMAX. These will be removed after the 0.12 release.\n",
      "\n",
      "statsmodels.tsa.arima.model.ARIMA makes use of the statespace framework and\n",
      "is both well tested and maintained.\n",
      "\n",
      "To silence this warning and continue using ARMA and ARIMA until they are\n",
      "removed, use:\n",
      "\n",
      "import warnings\n",
      "warnings.filterwarnings('ignore', 'statsmodels.tsa.arima_model.ARMA',\n",
      "                        FutureWarning)\n",
      "warnings.filterwarnings('ignore', 'statsmodels.tsa.arima_model.ARIMA',\n",
      "                        FutureWarning)\n",
      "\n",
      "  warnings.warn(ARIMA_DEPRECATION_WARN, FutureWarning)\n",
      "/opt/anaconda3/lib/python3.9/site-packages/statsmodels/tsa/base/tsa_model.py:524: ValueWarning: No frequency information was provided, so inferred frequency BM will be used.\n",
      "  warnings.warn('No frequency information was'\n",
      "/opt/anaconda3/lib/python3.9/site-packages/statsmodels/tsa/base/tsa_model.py:524: ValueWarning: No frequency information was provided, so inferred frequency BM will be used.\n",
      "  warnings.warn('No frequency information was'\n"
     ]
    }
   ],
   "source": [
    "# 1,1,1 ARIMA Model\n",
    "model1 = ARIMA(train.Value, order=(1,1,1))\n",
    "model_fit1 = model1.fit(disp=0)\n",
    "print(model_fit1.summary())"
   ]
  },
  {
   "cell_type": "code",
   "execution_count": 28,
   "id": "ca6788a4-4bb9-49f9-ab1b-584f97bb112e",
   "metadata": {},
   "outputs": [
    {
     "name": "stdout",
     "output_type": "stream",
     "text": [
      "                             ARIMA Model Results                              \n",
      "==============================================================================\n",
      "Dep. Variable:                D.Value   No. Observations:                  386\n",
      "Model:                 ARIMA(1, 1, 0)   Log Likelihood               -2035.894\n",
      "Method:                       css-mle   S.D. of innovations             47.246\n",
      "Date:                Fri, 14 Oct 2022   AIC                           4077.788\n",
      "Time:                        14:36:00   BIC                           4089.656\n",
      "Sample:                    02-28-1990   HQIC                          4082.495\n",
      "                         - 03-31-2022                                         \n",
      "=================================================================================\n",
      "                    coef    std err          z      P>|z|      [0.025      0.975]\n",
      "---------------------------------------------------------------------------------\n",
      "const             3.9509      2.120      1.864      0.062      -0.204       8.106\n",
      "ar.L1.D.Value    -0.1348      0.050     -2.675      0.007      -0.234      -0.036\n",
      "                                    Roots                                    \n",
      "=============================================================================\n",
      "                  Real          Imaginary           Modulus         Frequency\n",
      "-----------------------------------------------------------------------------\n",
      "AR.1           -7.4192           +0.0000j            7.4192            0.5000\n",
      "-----------------------------------------------------------------------------\n"
     ]
    },
    {
     "name": "stderr",
     "output_type": "stream",
     "text": [
      "/opt/anaconda3/lib/python3.9/site-packages/statsmodels/tsa/arima_model.py:472: FutureWarning: \n",
      "statsmodels.tsa.arima_model.ARMA and statsmodels.tsa.arima_model.ARIMA have\n",
      "been deprecated in favor of statsmodels.tsa.arima.model.ARIMA (note the .\n",
      "between arima and model) and\n",
      "statsmodels.tsa.SARIMAX. These will be removed after the 0.12 release.\n",
      "\n",
      "statsmodels.tsa.arima.model.ARIMA makes use of the statespace framework and\n",
      "is both well tested and maintained.\n",
      "\n",
      "To silence this warning and continue using ARMA and ARIMA until they are\n",
      "removed, use:\n",
      "\n",
      "import warnings\n",
      "warnings.filterwarnings('ignore', 'statsmodels.tsa.arima_model.ARMA',\n",
      "                        FutureWarning)\n",
      "warnings.filterwarnings('ignore', 'statsmodels.tsa.arima_model.ARIMA',\n",
      "                        FutureWarning)\n",
      "\n",
      "  warnings.warn(ARIMA_DEPRECATION_WARN, FutureWarning)\n",
      "/opt/anaconda3/lib/python3.9/site-packages/statsmodels/tsa/base/tsa_model.py:524: ValueWarning: No frequency information was provided, so inferred frequency BM will be used.\n",
      "  warnings.warn('No frequency information was'\n",
      "/opt/anaconda3/lib/python3.9/site-packages/statsmodels/tsa/base/tsa_model.py:524: ValueWarning: No frequency information was provided, so inferred frequency BM will be used.\n",
      "  warnings.warn('No frequency information was'\n"
     ]
    }
   ],
   "source": [
    "# 1,1,0 ARIMA Model\n",
    "model2 = ARIMA(train.Value, order=(1,1,0))\n",
    "model_fit2 = model2.fit(disp=0)\n",
    "print(model_fit2.summary())"
   ]
  },
  {
   "cell_type": "code",
   "execution_count": 29,
   "id": "dbcd82d4-1c3f-4c15-b96e-668a1df381b1",
   "metadata": {},
   "outputs": [
    {
     "name": "stdout",
     "output_type": "stream",
     "text": [
      "                             ARIMA Model Results                              \n",
      "==============================================================================\n",
      "Dep. Variable:                D.Value   No. Observations:                  386\n",
      "Model:                 ARIMA(0, 1, 1)   Log Likelihood               -2035.293\n",
      "Method:                       css-mle   S.D. of innovations             47.172\n",
      "Date:                Fri, 14 Oct 2022   AIC                           4076.586\n",
      "Time:                        14:36:01   BIC                           4088.454\n",
      "Sample:                    02-28-1990   HQIC                          4081.293\n",
      "                         - 03-31-2022                                         \n",
      "=================================================================================\n",
      "                    coef    std err          z      P>|z|      [0.025      0.975]\n",
      "---------------------------------------------------------------------------------\n",
      "const             3.9453      2.027      1.946      0.052      -0.029       7.919\n",
      "ma.L1.D.Value    -0.1560      0.053     -2.954      0.003      -0.259      -0.052\n",
      "                                    Roots                                    \n",
      "=============================================================================\n",
      "                  Real          Imaginary           Modulus         Frequency\n",
      "-----------------------------------------------------------------------------\n",
      "MA.1            6.4113           +0.0000j            6.4113            0.0000\n",
      "-----------------------------------------------------------------------------\n"
     ]
    },
    {
     "name": "stderr",
     "output_type": "stream",
     "text": [
      "/opt/anaconda3/lib/python3.9/site-packages/statsmodels/tsa/arima_model.py:472: FutureWarning: \n",
      "statsmodels.tsa.arima_model.ARMA and statsmodels.tsa.arima_model.ARIMA have\n",
      "been deprecated in favor of statsmodels.tsa.arima.model.ARIMA (note the .\n",
      "between arima and model) and\n",
      "statsmodels.tsa.SARIMAX. These will be removed after the 0.12 release.\n",
      "\n",
      "statsmodels.tsa.arima.model.ARIMA makes use of the statespace framework and\n",
      "is both well tested and maintained.\n",
      "\n",
      "To silence this warning and continue using ARMA and ARIMA until they are\n",
      "removed, use:\n",
      "\n",
      "import warnings\n",
      "warnings.filterwarnings('ignore', 'statsmodels.tsa.arima_model.ARMA',\n",
      "                        FutureWarning)\n",
      "warnings.filterwarnings('ignore', 'statsmodels.tsa.arima_model.ARIMA',\n",
      "                        FutureWarning)\n",
      "\n",
      "  warnings.warn(ARIMA_DEPRECATION_WARN, FutureWarning)\n",
      "/opt/anaconda3/lib/python3.9/site-packages/statsmodels/tsa/base/tsa_model.py:524: ValueWarning: No frequency information was provided, so inferred frequency BM will be used.\n",
      "  warnings.warn('No frequency information was'\n",
      "/opt/anaconda3/lib/python3.9/site-packages/statsmodels/tsa/base/tsa_model.py:524: ValueWarning: No frequency information was provided, so inferred frequency BM will be used.\n",
      "  warnings.warn('No frequency information was'\n"
     ]
    }
   ],
   "source": [
    "# 0,1,1 ARIMA Model\n",
    "model3 = ARIMA(train.Value, order=(0,1,1))\n",
    "model_fit3 = model3.fit(disp=0)\n",
    "print(model_fit3.summary())"
   ]
  },
  {
   "cell_type": "code",
   "execution_count": 30,
   "id": "7b5d6877-3211-4eba-b86f-2d04bfc573bd",
   "metadata": {},
   "outputs": [
    {
     "name": "stdout",
     "output_type": "stream",
     "text": [
      "                             ARIMA Model Results                              \n",
      "==============================================================================\n",
      "Dep. Variable:                D.Value   No. Observations:                  386\n",
      "Model:                 ARIMA(0, 1, 0)   Log Likelihood               -2039.438\n",
      "Method:                           css   S.D. of innovations             47.683\n",
      "Date:                Fri, 14 Oct 2022   AIC                           4082.877\n",
      "Time:                        14:36:07   BIC                           4090.788\n",
      "Sample:                    02-28-1990   HQIC                          4086.014\n",
      "                         - 03-31-2022                                         \n",
      "==============================================================================\n",
      "                 coef    std err          z      P>|z|      [0.025      0.975]\n",
      "------------------------------------------------------------------------------\n",
      "const          3.9562      2.427      1.630      0.103      -0.801       8.713\n",
      "==============================================================================\n"
     ]
    },
    {
     "name": "stderr",
     "output_type": "stream",
     "text": [
      "/opt/anaconda3/lib/python3.9/site-packages/statsmodels/tsa/arima_model.py:472: FutureWarning: \n",
      "statsmodels.tsa.arima_model.ARMA and statsmodels.tsa.arima_model.ARIMA have\n",
      "been deprecated in favor of statsmodels.tsa.arima.model.ARIMA (note the .\n",
      "between arima and model) and\n",
      "statsmodels.tsa.SARIMAX. These will be removed after the 0.12 release.\n",
      "\n",
      "statsmodels.tsa.arima.model.ARIMA makes use of the statespace framework and\n",
      "is both well tested and maintained.\n",
      "\n",
      "To silence this warning and continue using ARMA and ARIMA until they are\n",
      "removed, use:\n",
      "\n",
      "import warnings\n",
      "warnings.filterwarnings('ignore', 'statsmodels.tsa.arima_model.ARMA',\n",
      "                        FutureWarning)\n",
      "warnings.filterwarnings('ignore', 'statsmodels.tsa.arima_model.ARIMA',\n",
      "                        FutureWarning)\n",
      "\n",
      "  warnings.warn(ARIMA_DEPRECATION_WARN, FutureWarning)\n",
      "/opt/anaconda3/lib/python3.9/site-packages/statsmodels/tsa/base/tsa_model.py:524: ValueWarning: No frequency information was provided, so inferred frequency BM will be used.\n",
      "  warnings.warn('No frequency information was'\n",
      "/opt/anaconda3/lib/python3.9/site-packages/statsmodels/tsa/base/tsa_model.py:524: ValueWarning: No frequency information was provided, so inferred frequency BM will be used.\n",
      "  warnings.warn('No frequency information was'\n"
     ]
    }
   ],
   "source": [
    "# 0,1,0 ARIMA Model\n",
    "model4 = ARIMA(train.Value, order=(0,1,0))\n",
    "model_fit4 = model4.fit(disp=0)\n",
    "print(model_fit4.summary())"
   ]
  },
  {
   "cell_type": "code",
   "execution_count": 35,
   "id": "6ca9aa0f-8ec2-4290-a0b7-fc7b22039e9d",
   "metadata": {},
   "outputs": [],
   "source": [
    "df_wyciete = df[350:390]\n",
    "\n",
    "result = pd.concat([fc_series, df_wyciete], axis=1, join='outer')\n",
    "result.columns = ['Progoza','Wartości']"
   ]
  },
  {
   "cell_type": "code",
   "execution_count": 40,
   "id": "a8c62ac0-b5e5-4adb-912c-d137f50a8c58",
   "metadata": {},
   "outputs": [
    {
     "name": "stderr",
     "output_type": "stream",
     "text": [
      "/opt/anaconda3/lib/python3.9/site-packages/statsmodels/tsa/base/tsa_model.py:132: FutureWarning: The 'freq' argument in Timestamp is deprecated and will be removed in a future version.\n",
      "  date_key = Timestamp(key, freq=base_index.freq)\n"
     ]
    },
    {
     "data": {
      "image/png": "[encoded data removed]",
      "text/plain": [
       "<Figure size 576x360 with 1 Axes>"
      ]
     },
     "metadata": {
      "needs_background": "light"
     },
     "output_type": "display_data"
    }
   ],
   "source": [
    "#plot the best model \n",
    "fig, ax = plt.subplots()\n",
    "ax = df.loc['2019':].plot(ax=ax)\n",
    "fig = model_fit3.plot_predict('2022-02', '2022-07', dynamic=True, ax=ax, plot_insample=False)\n",
    "plt.show()"
   ]
  },
  {
   "cell_type": "code",
   "execution_count": 43,
   "id": "4acf9d4b-2def-4fc4-bf52-dd19d51d7818",
   "metadata": {},
   "outputs": [
    {
     "data": {
      "text/html": [
       "<div>\n",
       "<style scoped>\n",
       "    .dataframe tbody tr th:only-of-type {\n",
       "        vertical-align: middle;\n",
       "    }\n",
       "\n",
       "    .dataframe tbody tr th {\n",
       "        vertical-align: top;\n",
       "    }\n",
       "\n",
       "    .dataframe thead th {\n",
       "        text-align: right;\n",
       "    }\n",
       "</style>\n",
       "<table border=\"1\" class=\"dataframe\">\n",
       "  <thead>\n",
       "    <tr style=\"text-align: right;\">\n",
       "      <th></th>\n",
       "      <th>lb_stat</th>\n",
       "      <th>lb_pvalue</th>\n",
       "    </tr>\n",
       "  </thead>\n",
       "  <tbody>\n",
       "    <tr>\n",
       "      <th>24</th>\n",
       "      <td>58.05904</td>\n",
       "      <td>0.000119</td>\n",
       "    </tr>\n",
       "  </tbody>\n",
       "</table>\n",
       "</div>"
      ],
      "text/plain": [
       "     lb_stat  lb_pvalue\n",
       "24  58.05904   0.000119"
      ]
     },
     "execution_count": 43,
     "metadata": {},
     "output_type": "execute_result"
    }
   ],
   "source": [
    "#are residuals white noise \n",
    "import statsmodels.api as sm\n",
    "\n",
    "#ljung box test\n",
    "sm.stats.acorr_ljungbox(model_fit3.resid, lags=[24], return_df=True)\n"
   ]
  },
  {
   "cell_type": "code",
   "execution_count": 46,
   "id": "37ec1245-9193-4497-afdf-a3c893c22aea",
   "metadata": {},
   "outputs": [
    {
     "data": {
      "text/plain": [
       "Date\n",
       "2022-04-29    1939.034247\n",
       "2022-05-31    1942.979529\n",
       "2022-06-30    1946.924811\n",
       "dtype: float64"
      ]
     },
     "execution_count": 46,
     "metadata": {},
     "output_type": "execute_result"
    }
   ],
   "source": [
    "#estimated values \n",
    "y_pred = pd.Series(model_fit3.forecast(3)[0], index = df[387:].index)\n",
    "\n",
    "#real values\n",
    "y_true = df[387:]\n",
    "\n",
    "y_pred"
   ]
  },
  {
   "cell_type": "code",
   "execution_count": 48,
   "id": "4af38a9f-a634-4f30-8cae-66b25169a218",
   "metadata": {},
   "outputs": [
    {
     "name": "stdout",
     "output_type": "stream",
     "text": [
      "Results of sklearn.metrics:\n",
      "MAPE: 0.04757650767259971\n",
      "MAE: 87.31286251462355\n",
      "MSE: 9507.955087190312\n",
      "RMSE: 97.50874364481533\n",
      "R: -4.847394912493179\n"
     ]
    }
   ],
   "source": [
    "#ex-post \n",
    "import sklearn.metrics as metrics\n",
    "\n",
    "mape = metrics.mean_absolute_percentage_error(y_true, y_pred)\n",
    "mae = metrics.mean_absolute_error(y_true, y_pred)\n",
    "mse = metrics.mean_squared_error(y_true, y_pred)\n",
    "rmse = np.sqrt(mse)  \n",
    "r2 = metrics.r2_score(y_true, y_pred)\n",
    "\n",
    "print(\"Results of sklearn.metrics:\")\n",
    "print(\"MAPE:\",mape)\n",
    "print(\"MAE:\",mae)\n",
    "print(\"MSE:\", mse)\n",
    "print(\"RMSE:\", rmse)\n",
    "print(\"R:\", r2)\n"
   ]
  },
  {
   "cell_type": "code",
   "execution_count": 50,
   "id": "aae68d63-ea3a-4511-a91c-331216b51d1b",
   "metadata": {},
   "outputs": [
    {
     "data": {
      "text/plain": [
       "Value    0.057019\n",
       "dtype: float64"
      ]
     },
     "execution_count": 50,
     "metadata": {},
     "output_type": "execute_result"
    }
   ],
   "source": [
    "#normalized rmse \n",
    "normalized = rmse/(df.max()-df.min())\n",
    "normalized"
   ]
  }
 ],
 "metadata": {
  "kernelspec": {
   "display_name": "Python 3 (ipykernel)",
   "language": "python",
   "name": "python3"
  },
  "language_info": {
   "codemirror_mode": {
    "name": "ipython",
    "version": 3
   },
   "file_extension": ".py",
   "mimetype": "text/x-python",
   "name": "python",
   "nbconvert_exporter": "python",
   "pygments_lexer": "ipython3",
   "version": "3.9.7"
  }
 },
 "nbformat": 4,
 "nbformat_minor": 5
}
